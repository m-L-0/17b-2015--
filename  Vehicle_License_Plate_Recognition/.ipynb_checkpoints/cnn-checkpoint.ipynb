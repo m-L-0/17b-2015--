{
 "cells": [
  {
   "cell_type": "code",
   "execution_count": null,
   "metadata": {
    "collapsed": false,
    "deletable": true,
    "editable": true
   },
   "outputs": [],
   "source": [
    "import tensorflow as tf\n",
    "import numpy as np\n",
    "from sklearn.datasets import load_digits\n",
    "import sys\n"
   ]
  },
  {
   "cell_type": "code",
   "execution_count": null,
   "metadata": {
    "collapsed": false,
    "deletable": true,
    "editable": true,
    "scrolled": true
   },
   "outputs": [],
   "source": [
    "import tensorflow as tf\n",
    "from tensorflow.examples.tutorials.mnist import input_data\n",
    "import numpy as np\n",
    "\n",
    "\n",
    "\n",
    "\n",
    "#导入数据\n",
    "def read_and_decode(filename):\n",
    "    #根据文件名生成一个队列\n",
    "    filename_queue = tf.train.string_input_producer([filename])\n",
    "\n",
    "    reader = tf.TFRecordReader()\n",
    "    _, serialized_example = reader.read(filename_queue)   #返回文件名和文件\n",
    "    features = tf.parse_single_example(serialized_example,\n",
    "                                       features={\n",
    "                                           'label': tf.FixedLenFeature([], tf.int64),\n",
    "                                           'img_raw' : tf.FixedLenFeature([], tf.string),\n",
    "                                       })\n",
    "\n",
    "    img = tf.decode_raw(features['img_raw'], tf.uint8)\n",
    "    img = tf.cast(img,tf.float64)\n",
    "\n",
    "    img = tf.reshape(img, [48, 24, 3])\n",
    "    img=tf.split(img,3,2)[0]\n",
    "    label = tf.cast(features['label'], tf.int32)\n",
    "    img_batch, label_batch = tf.train.shuffle_batch([img, label],\n",
    "                                                batch_size=50, capacity=25000,\n",
    "                                                min_after_dequeue=10000)\n",
    "    \n",
    "    return img_batch, label_batch\n",
    "\n",
    "\n",
    "\n",
    "\n",
    "def dr(a):\n",
    "    s = list()\n",
    "    for index, i in enumerate(a):\n",
    "        s.append(list())\n",
    "        for n in range(34):\n",
    "            if n == i:\n",
    "                s[index].append(1)\n",
    "            else:\n",
    "                s[index].append(0)            \n",
    "    return s\n",
    "\n",
    "\n",
    "\"\"\"\n",
    "权重初始化,\n",
    "初始化为一个接近0的很小的正数\n",
    "\n",
    "\"\"\"\n",
    "\n",
    "\n",
    "       \n",
    "def weight_variable(shape):\n",
    "    initial = tf.truncated_normal(shape, stddev = 0.1)\n",
    "    return tf.Variable(initial)\n",
    "\n",
    "def bias_variable(shape):\n",
    "    initial = tf.constant(0.1, shape = shape)\n",
    "    return tf.Variable(initial)\n",
    "\n",
    "\n",
    "#卷积:步长为1,0边距\n",
    "def juanji(x, W):\n",
    "    return tf.nn.conv2d(x, W, strides=[1, 1, 1, 1], padding = 'VALID')\n",
    "\n",
    "\n",
    "def chihua(x):\n",
    "    return tf.nn.max_pool(x, ksize = [1, 2, 2, 1], strides = [1, 2, 2, 1], padding = 'SAME')\n",
    "    \n",
    "#MNIST数据输入\n",
    "\n",
    "\n",
    "#第一层 卷积层\n",
    "x = tf.placeholder(tf.float32,[None, 48,24,1])\n",
    "\n",
    "#最后一维代表通道，如果是rgb则为3 \n",
    "x_image = tf.reshape(x, [-1, 48, 24, 1])\n",
    "# 第一二参数值得卷积核尺寸大小，即patch，第三个参数是图像通道数，第四个参数是卷积核的数目，代表会出现多少个卷积特征图像;  \n",
    "W_1 = weight_variable([5, 5, 1, 32])\n",
    "# 对于每一个卷积核都有一个对应的偏置量。\n",
    "b_1 = bias_variable([32])\n",
    "# 图片乘以卷积核，并加上偏执量，\n",
    "h_j1 = tf.nn.relu(juanji(x_image, W_1) + b_1)\n",
    "h_c1 = chihua(h_j1)"
   ]
  },
  {
   "cell_type": "code",
   "execution_count": null,
   "metadata": {
    "collapsed": false,
    "deletable": true,
    "editable": true
   },
   "outputs": [],
   "source": [
    "#第二层 卷积层\n",
    "# 32通道卷积，卷积出64个特征 \n",
    "W_2 = weight_variable([5, 5, 32, 64])\n",
    "# 64个偏执数据 \n",
    "b_2 = bias_variable([64])\n",
    "h_j2 = tf.nn.relu(juanji(h_c1, W_2) + b_2)\n",
    "h_c2 = chihua(h_j2)"
   ]
  },
  {
   "cell_type": "code",
   "execution_count": null,
   "metadata": {
    "collapsed": false,
    "deletable": true,
    "editable": true
   },
   "outputs": [],
   "source": [
    "#第三层 全连接层\n",
    "W_f1 = weight_variable([9 * 3 * 64, 1024])\n",
    "b_f1 = bias_variable([1024])\n",
    "h_c2_flat = tf.reshape(h_c2, [-1, 9 * 3 * 64])\n",
    "h_f1 = tf.nn.relu(tf.matmul(h_c2_flat, W_f1) + b_f1)\n",
    "keep_prob = tf.placeholder(\"float\")\n",
    "h_f1_drop = tf.nn.dropout(h_f1, keep_prob)\n",
    "\n",
    "\n"
   ]
  },
  {
   "cell_type": "code",
   "execution_count": null,
   "metadata": {
    "collapsed": false,
    "deletable": true,
    "editable": true
   },
   "outputs": [],
   "source": [
    "#第四层 Softmax输出层\n",
    "\n",
    "W_f2 = weight_variable([1024, 34])\n",
    "b_f2 = bias_variable([34])\n",
    "Y = tf.nn.softmax(tf.matmul(h_f1_drop, W_f2) + b_f2)"
   ]
  },
  {
   "cell_type": "code",
   "execution_count": null,
   "metadata": {
    "collapsed": false,
    "deletable": true,
    "editable": true
   },
   "outputs": [],
   "source": [
    "saver = tf.train.Saver()\n",
    "init = tf.global_variables_initializer()\n",
    "\n",
    "y_ = tf.placeholder(\"float32\", [None, 34])\n",
    "cross_entropy = -tf.reduce_sum(y_ * tf.log(Y)) #计算交叉熵\n",
    "train_step = tf.train.AdamOptimizer(1e-4).minimize(cross_entropy) #使用adam优化器来以0.0001的学习率来进行微调\n",
    "correct_prediction = tf.equal(tf.argmax(Y,1), tf.argmax(y_,1)) #判断预测标签和实际标签是否匹配\n",
    "accuracy = tf.reduce_mean(tf.cast(correct_prediction,tf.float32))\n",
    "\n",
    "sess = tf.Session() #启动创建的模型\n",
    "sess.run(tf.global_variables_initializer())#初始化变量\n",
    "\n",
    "\n",
    "train_img, train_label = read_and_decode(\"train.tfrecords\")\n",
    "\n",
    "for i in range(500): #开始训练模型，循环训练500次\n",
    "    batch_img,batch_label = sess.run([train_img,train_label])\n",
    "    l = dr(batch_label)\n",
    "    print(l)\n",
    "    if i % 100 == 0:\n",
    "        train_accuracy = accuracy.eval(session = sess,feed_dict = {x:batch_img, y_:l, keep_prob:1.0})\n",
    "        print(\"step %d, train_accuracy %g\" %(i, train_accuracy))\n",
    "    train_step.run(session = sess, feed_dict = {x:batch_img, y_:l,keep_prob:0.5}) \n",
    "    saver.save(sess, \"model_final\")\n",
    "   \n",
    "\n",
    "#print(\"test accuracy %g\" %accuracy.eval(session = sess,feed_dict = {x:mnist.test.images, y_:mnist.test.labels,keep_prob:1.0}))\n",
    "    \n"
   ]
  },
  {
   "cell_type": "code",
   "execution_count": null,
   "metadata": {
    "collapsed": true,
    "deletable": true,
    "editable": true
   },
   "outputs": [],
   "source": [
    "cross_entropy = -tf.reduce_sum(y_ * tf.log(Y)) # 定义交叉熵为loss函数    \n",
    "train_step = tf.train.DradientDescentOptimizer(0.5).minimize(cross_entropy) # 调用优化"
   ]
  },
  {
   "cell_type": "code",
   "execution_count": null,
   "metadata": {
    "collapsed": true,
    "deletable": true,
    "editable": true
   },
   "outputs": [],
   "source": [
    "correct_prediction = tf.equal(tf.argmax(Y,1), tf.argmax(y_,1))  \n",
    "accuracy = tf.reduce_mean(tf.cast(correct_prediction, tf.float32))  \n",
    "\n",
    "tf.global_variables_initializer().run()  \n",
    "img_batch ,label_batch = read_and_decode(\"train.tfrecords\")\n",
    "for i in range(500):  \n",
    "\n",
    "    batch = mnist.train.next_batch(50)  \n",
    "\n",
    "    if i%100 == 0:  \n",
    "\n",
    "        train_accuracy = accuracy.eval(feed_dict={x:batch[0], ys: batch[1], keep_prob: 1.0})  \n",
    "\n",
    "        print(\"step %d, training accuracy %g\"%(i, train_accuracy))  \n",
    "\n",
    "    train_step.run(feed_dict={x: batch[0], ys: batch[1], keep_prob: 0.5})  \n",
    "\n",
    "print(\"test accuracy %g\"%accuracy.eval(feed_dict={x: mnist.test.images, ys: mnist.test.labels, keep_prob: 1.0}))  "
   ]
  }
 ],
 "metadata": {
  "kernelspec": {
   "display_name": "Python 3",
   "language": "python",
   "name": "python3"
  },
  "language_info": {
   "codemirror_mode": {
    "name": "ipython",
    "version": 3
   },
   "file_extension": ".py",
   "mimetype": "text/x-python",
   "name": "python",
   "nbconvert_exporter": "python",
   "pygments_lexer": "ipython3",
   "version": "3.6.0"
  }
 },
 "nbformat": 4,
 "nbformat_minor": 2
}
