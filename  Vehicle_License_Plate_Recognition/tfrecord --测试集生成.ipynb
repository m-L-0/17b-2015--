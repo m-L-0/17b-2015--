{
 "cells": [
  {
   "cell_type": "code",
   "execution_count": 1,
   "metadata": {
    "collapsed": true
   },
   "outputs": [],
   "source": [
    "import os\n",
    "import tensorflow as tf \n",
    "from PIL import Image\n",
    "import shutil  \n",
    "import matplotlib.pyplot as plt\n",
    "import numpy as np\n",
    "import cv2"
   ]
  },
  {
   "cell_type": "code",
   "execution_count": 5,
   "metadata": {
    "collapsed": false
   },
   "outputs": [
    {
     "name": "stderr",
     "output_type": "stream",
     "text": [
      "/home/haiyang/venv/lib/python3.6/site-packages/ipykernel/__main__.py:44: DeprecationWarning: PyUnicode_AsEncodedObject() is deprecated; use PyUnicode_AsEncodedString() to encode from str to bytes or PyCodec_Encode() for generic encoding\n",
      "/home/haiyang/venv/lib/python3.6/site-packages/ipykernel/__main__.py:25: DeprecationWarning: PyUnicode_AsEncodedObject() is deprecated; use PyUnicode_AsEncodedString() to encode from str to bytes or PyCodec_Encode() for generic encoding\n"
     ]
    }
   ],
   "source": [
    "cwd = \"data/车牌识别/\"\n",
    "\n",
    "test_tj ={}\n",
    "\n",
    "classes ={\"数字\", \"字母\"}\n",
    "classesnum = {\"0\":0,\"1\":1,\"2\":2,\"3\":3,\"4\":4,\"5\":5,\"6\":6,\"7\":7,\"8\":8,\"9\":9}\n",
    "classesletter={\"A\":10,\"B\":11,\"C\":12,\"D\":13,\"E\":14,\"F\":15,\"G\":16,\"H\":17,\"J\":18,\"K\":19,\"L\":20,\"M\":21,\"N\":22,\"P\":23,\"Q\":24,\"R\":25,\"S\":26,\"T\":27,\"U\":28,\"V\":29,\"W\":30,\"S\":31,\"Y\":32,\"Z\":33}\n",
    "\n",
    "writer = tf.python_io.TFRecordWriter(\"test.tfrecords\")\n",
    "for index, name in enumerate(classes):\n",
    "    if name == \"数字\": \n",
    "        for index, i in enumerate(classesnum):\n",
    "            n = 0  #用于判断数据集分割条件\n",
    "            test_num = 0\n",
    "            class_path = cwd + name +\"/\"+ i + \"/\"\n",
    "            dirs = os.listdir(class_path)\n",
    "            for img_name in dirs:\n",
    "                n = n + 1\n",
    "                img_path = class_path + img_name\n",
    "                img = Image.open(img_path)\n",
    "                img = img.resize((24, 48))\n",
    "                img_raw = img.tobytes()              #将图片转化为原生bytes\n",
    "                example = tf.train.Example(features=tf.train.Features(feature={\n",
    "                    \"label\": tf.train.Feature(int64_list=tf.train.Int64List(value=[classesnum[i]])),\n",
    "                    'img_raw': tf.train.Feature(bytes_list=tf.train.BytesList(value=[img_raw]))\n",
    "                }))\n",
    "                writer.write(example.SerializeToString())  #写入validation.tfrecords\n",
    "                test_num = test_num + 1\n",
    "            test_tj[i] = test_num\n",
    "    else:\n",
    "        for index, i in enumerate(classesletter):\n",
    "            n = 0\n",
    "            test_num = 0\n",
    "            class_path = cwd + name + \"/\" + i + \"/\"\n",
    "            dirs = os.listdir(class_path)\n",
    "            for img_name in dirs:\n",
    "                n = n + 1\n",
    "                img_path = class_path + img_name\n",
    "                img = Image.open(img_path)\n",
    "                img = img.resize((24, 48))\n",
    "                img_raw = img.tobytes()              #将图片转化为原生bytes\n",
    "                example = tf.train.Example(features=tf.train.Features(feature={\n",
    "                    \"label\": tf.train.Feature(int64_list=tf.train.Int64List(value=[classesletter[i]])),\n",
    "                    'img_raw': tf.train.Feature(bytes_list=tf.train.BytesList(value=[img_raw]))\n",
    "                }))\n",
    "                writer.write(example.SerializeToString())  #序列化为字符串\n",
    "                test_num = test_num + 1\n",
    "            test_tj[i] = test_num\n",
    "\n",
    "\n",
    "writer.close()"
   ]
  },
  {
   "cell_type": "code",
   "execution_count": 6,
   "metadata": {
    "collapsed": false
   },
   "outputs": [
    {
     "name": "stdout",
     "output_type": "stream",
     "text": [
      "{'A': 296, 'B': 100, 'C': 80, 'D': 68, 'E': 300, 'F': 80, 'G': 69, 'H': 150, 'J': 79, 'K': 69, 'L': 80, 'M': 82, 'N': 68, 'P': 65, 'Q': 61, 'R': 69, 'S': 110, 'T': 98, 'U': 70, 'V': 69, 'W': 80, 'Y': 200, 'Z': 70, '0': 119, '1': 189, '2': 149, '3': 131, '4': 121, '5': 142, '6': 133, '7': 128, '8': 148, '9': 148}\n"
     ]
    }
   ],
   "source": [
    "print(test_tj)"
   ]
  },
  {
   "cell_type": "code",
   "execution_count": 7,
   "metadata": {
    "collapsed": false
   },
   "outputs": [
    {
     "name": "stdout",
     "output_type": "stream",
     "text": [
      "3821\n"
     ]
    }
   ],
   "source": [
    "n= 0\n",
    "for i in test_tj:\n",
    "    n= n +test_tj[i]\n",
    "print(n)"
   ]
  },
  {
   "cell_type": "code",
   "execution_count": null,
   "metadata": {
    "collapsed": true
   },
   "outputs": [],
   "source": []
  }
 ],
 "metadata": {
  "kernelspec": {
   "display_name": "Python 3",
   "language": "python",
   "name": "python3"
  },
  "language_info": {
   "codemirror_mode": {
    "name": "ipython",
    "version": 3
   },
   "file_extension": ".py",
   "mimetype": "text/x-python",
   "name": "python",
   "nbconvert_exporter": "python",
   "pygments_lexer": "ipython3",
   "version": "3.6.0"
  }
 },
 "nbformat": 4,
 "nbformat_minor": 2
}
