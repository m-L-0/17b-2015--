{
 "cells": [
  {
   "cell_type": "code",
   "execution_count": 1,
   "metadata": {
    "collapsed": false,
    "deletable": true,
    "editable": true
   },
   "outputs": [
    {
     "name": "stdout",
     "output_type": "stream",
     "text": [
      "Extracting ../../data/train-images-idx3-ubyte.gz\n",
      "Extracting ../../data/train-labels-idx1-ubyte.gz\n",
      "Extracting ../../data/t10k-images-idx3-ubyte.gz\n",
      "Extracting ../../data/t10k-labels-idx1-ubyte.gz\n",
      "step 0, train_accuracy 0.16\n",
      "step 100, train_accuracy 0.82\n",
      "step 200, train_accuracy 0.92\n",
      "step 300, train_accuracy 0.84\n",
      "step 400, train_accuracy 0.98\n",
      "test accuracy 0.9439\n",
      "running time is 430.306 s\n"
     ]
    }
   ],
   "source": [
    "import tensorflow as tf\n",
    "from tensorflow.examples.tutorials.mnist import input_data\n",
    "import numpy as np\n",
    "\n",
    "\"\"\"\n",
    "权重初始化,\n",
    "初始化为一个接近0的很小的正数\n",
    "\n",
    "\"\"\"\n",
    "       \n",
    "def weight_variable(shape):\n",
    "    initial = tf.truncated_normal(shape, stddev = 0.1)\n",
    "    return tf.Variable(initial)\n",
    "\n",
    "def bias_variable(shape):\n",
    "    initial = tf.constant(0.1, shape = shape)\n",
    "    return tf.Variable(initial)\n",
    "\n",
    "\n",
    "#卷积:步长为1,0边距\n",
    "def juanji(x, W):\n",
    "    return tf.nn.conv2d(x, W, strides=[1, 1, 1, 1], padding = 'SAME')\n",
    "\n",
    "\n",
    "#池化用2x2大小的模板做max pooling\n",
    "def chihua(x):\n",
    "    return tf.nn.max_pool(x, ksize = [1, 2, 2, 1], strides = [1, 2, 2, 1], padding = 'SAME')\n",
    "    \n",
    "#MNIST数据输入\n",
    "mnist = input_data.read_data_sets(\"../../data\", one_hot=True) \n",
    "\n",
    "\n",
    "\n",
    "#第一层 卷积层x_image(batch, 28, 28, 1) -> h_1(batch, 14, 14, 32)\n",
    "\n",
    "x = tf.placeholder(tf.float32,[None, 784])\n",
    "\n",
    "#最后一维代表通道，如果是rgb则为3 \n",
    "x_image = tf.reshape(x, [-1, 28, 28, 1]) \n",
    "W_1 = weight_variable([5, 5, 1, 32])\n",
    "b_1 = bias_variable([32])\n",
    "\n",
    "h_j1 = tf.nn.relu(juanji(x_image, W_1) + b_1)\n",
    "# x_image -> [batch, in_height, in_width, in_channels]\n",
    "#            [batch, 28, 28, 1]\n",
    "# W_1 -> [filter_height, filter_width, in_channels, out_channels]\n",
    "#            [5, 5, 1, 32]\n",
    "# output  -> [batch, out_height, out_width, out_channels]\n",
    "#            [batch, 28, 28, 32]\n",
    "h_c1 = chihua(h_j1)\n",
    "# h_conv1 -> [batch, in_height, in_weight, in_channels]\n",
    "#            [batch, 28, 28, 32]\n",
    "# output  -> [batch, out_height, out_weight, out_channels]\n",
    "#            [batch, 14, 14, 32]\n",
    "\n",
    "\n",
    "#第二层 卷积层 h_1(batch, 14, 14, 32) -> h_2(batch, 7, 7, 64)\n",
    "\n",
    "W_2 = weight_variable([5, 5, 32, 64])\n",
    "b_2 = bias_variable([64])\n",
    "\n",
    "h_j2 = tf.nn.relu(juanji(h_1, W_2) + b_2)\n",
    "# h_pool1 -> [batch, 14, 14, 32]\n",
    "# W_conv2 -> [5, 5, 32, 64]\n",
    "# output  -> [batch, 14, 14, 64]\n",
    "h_c2 = chihua(h_j2)\n",
    "# h_conv2 -> [batch, 14, 14, 64]\n",
    "# output  -> [batch, 7, 7, 64]\n",
    "\n",
    "\n",
    "#第三层 全连接层 h_pool2(batch, 7, 7, 64) -> h_fc1(1, 1024)\n",
    "\n",
    "W_f1 = weight_variable([7 * 7 * 64, 1024])\n",
    "b_f1 = bias_variable([1024])\n",
    "\n",
    "h_c2_flat = tf.reshape(h_c2, [-1, 7 * 7 * 64])\n",
    "h_f1 = tf.nn.relu(tf.matmul(h_c2_flat, W_f1) + b_f1)\n",
    "\n",
    "\n",
    "keep_prob = tf.placeholder(\"float\")\n",
    "h_f1_drop = tf.nn.dropout(h_f1, keep_prob)\n",
    "\n",
    "\n",
    "#第四层 Softmax输出层\n",
    "\n",
    "W_f2 = weight_variable([1024, 10])\n",
    "b_f2 = bias_variable([10])\n",
    "\n",
    "Y = tf.nn.softmax(tf.matmul(h_f1_drop, W_f2) + b_f2)\n",
    "\n",
    "\n",
    "#训练和评估模型ADAM优化器来做梯度最速下降,feed_dict中加入参数keep_prob控制dropout比例\n",
    "\n",
    "saver = tf.train.Saver()\n",
    "init = tf.global_variables_initializer()\n",
    "\n",
    "\n",
    "\n",
    "y_ = tf.placeholder(\"float\", [None, 10])\n",
    "cross_entropy = -tf.reduce_sum(y_ * tf.log(Y)) #计算交叉熵\n",
    "train_step = tf.train.AdamOptimizer(1e-4).minimize(cross_entropy) #使用adam优化器来以0.0001的学习率来进行微调\n",
    "correct_prediction = tf.equal(tf.argmax(Y,1), tf.argmax(y_,1)) #判断预测标签和实际标签是否匹配\n",
    "accuracy = tf.reduce_mean(tf.cast(correct_prediction,\"float\"))\n",
    "\n",
    "sess = tf.Session() #启动创建的模型\n",
    "sess.run(tf.global_variables_initializer())#初始化变量\n",
    "\n",
    "for i in range(500): #开始训练模型，循环训练500次\n",
    "    batch = mnist.train.next_batch(50) #batch大小设置为50\n",
    "    if i % 100 == 0:\n",
    "        train_accuracy = accuracy.eval(session = sess,feed_dict = {x:batch[0], y_:batch[1], keep_prob:1.0})\n",
    "        print(\"step %d, train_accuracy %g\" %(i, train_accuracy))\n",
    "    train_step.run(session = sess, feed_dict = {x:batch[0], y_:batch[1],keep_prob:0.5}) #神经元输出保持不变的概率 keep_prob 为0.5\n",
    "    saver.save(sess, \"model_final\")\n",
    "   \n",
    "\n",
    "print(\"test accuracy %g\" %accuracy.eval(session = sess,\n",
    "      feed_dict = {x:mnist.test.images, y_:mnist.test.labels,\n",
    "                   keep_prob:1.0})) #神经元输出保持不变的概率 keep_prob 为 1，即不变，一直保持输出\n",
    "    \n"
   ]
  },
  {
   "cell_type": "code",
   "execution_count": 22,
   "metadata": {
    "collapsed": true,
    "deletable": true,
    "editable": true
   },
   "outputs": [],
   "source": [
    "tf.reset_default_graph()\n",
    "imported_meta = tf.train.import_meta_graph(\"model_final.meta\")"
   ]
  },
  {
   "cell_type": "code",
   "execution_count": 9,
   "metadata": {
    "collapsed": false,
    "deletable": true,
    "editable": true
   },
   "outputs": [
    {
     "name": "stdout",
     "output_type": "stream",
     "text": [
      "(6500, 28, 28, 1)\n",
      "共6500张图片\n"
     ]
    }
   ],
   "source": [
    "class Dataset(object):\n",
    "    def __init__(self, dtype='uint8', is_row_iamge=False):\n",
    "        '''数据集\n",
    "        \n",
    "        Args:\n",
    "            dtype: uint8 或 float32，uint8：每个像素值的范围是[0, 255];float32像素值范围是[0., 1.]\n",
    "            is_row_image: 是否将3维图片展开成1维\n",
    "        '''\n",
    "        images = np.fromfile('../data/test images/images/test_image.bin', dtype=np.uint8).reshape(-1, 28, 28, 1)\n",
    "        print(images.shape)\n",
    "        if dtype == 'uint8':\n",
    "            self.images = images\n",
    "        else:\n",
    "            images = images.astype(np.float32) / 255.\n",
    "            self.images = images\n",
    "        if is_row_iamge:\n",
    "            self.images = images.reshape([-1, 784])\n",
    "        self.num_of_images = 6500\n",
    "        self.offset = 0\n",
    "        print('共6500张图片')\n",
    "\n",
    "    def next_batch(self, batch_size=50):\n",
    "        # 返回False表示以及没有样本\n",
    "        # 注意：最后一个批次可能不足batch_size 所以推荐选择6500可以整除的batch_size\n",
    "        if (self.offset + batch_size) <= self.num_of_images:\n",
    "            self.offset += batch_size\n",
    "            return self.images[self.offset-batch_size : self.offset]\n",
    "        elif self.offset < self.num_of_images:\n",
    "            return self.images[self.offset : ]\n",
    "        else:\n",
    "            False\n",
    "mnist1 = Dataset(is_row_iamge=True).images"
   ]
  },
  {
   "cell_type": "code",
   "execution_count": 23,
   "metadata": {
    "collapsed": false,
    "deletable": true,
    "editable": true
   },
   "outputs": [
    {
     "ename": "TypeError",
     "evalue": "Cannot interpret feed_dict key as Tensor: Tensor Tensor(\"Placeholder:0\", shape=(?, 784), dtype=float32) is not an element of this graph.",
     "output_type": "error",
     "traceback": [
      "\u001b[0;31m---------------------------------------------------------------------------\u001b[0m",
      "\u001b[0;31mValueError\u001b[0m                                Traceback (most recent call last)",
      "\u001b[0;32m/home/haiyang/venv/lib/python3.6/site-packages/tensorflow/python/client/session.py\u001b[0m in \u001b[0;36m_run\u001b[0;34m(self, handle, fetches, feed_dict, options, run_metadata)\u001b[0m\n\u001b[1;32m    918\u001b[0m             subfeed_t = self.graph.as_graph_element(subfeed, allow_tensor=True,\n\u001b[0;32m--> 919\u001b[0;31m                                                     allow_operation=False)\n\u001b[0m\u001b[1;32m    920\u001b[0m           \u001b[0;32mexcept\u001b[0m \u001b[0mException\u001b[0m \u001b[0;32mas\u001b[0m \u001b[0me\u001b[0m\u001b[0;34m:\u001b[0m\u001b[0;34m\u001b[0m\u001b[0m\n",
      "\u001b[0;32m/home/haiyang/venv/lib/python3.6/site-packages/tensorflow/python/framework/ops.py\u001b[0m in \u001b[0;36mas_graph_element\u001b[0;34m(self, obj, allow_tensor, allow_operation)\u001b[0m\n\u001b[1;32m   2404\u001b[0m     \u001b[0;32mwith\u001b[0m \u001b[0mself\u001b[0m\u001b[0;34m.\u001b[0m\u001b[0m_lock\u001b[0m\u001b[0;34m:\u001b[0m\u001b[0;34m\u001b[0m\u001b[0m\n\u001b[0;32m-> 2405\u001b[0;31m       \u001b[0;32mreturn\u001b[0m \u001b[0mself\u001b[0m\u001b[0;34m.\u001b[0m\u001b[0m_as_graph_element_locked\u001b[0m\u001b[0;34m(\u001b[0m\u001b[0mobj\u001b[0m\u001b[0;34m,\u001b[0m \u001b[0mallow_tensor\u001b[0m\u001b[0;34m,\u001b[0m \u001b[0mallow_operation\u001b[0m\u001b[0;34m)\u001b[0m\u001b[0;34m\u001b[0m\u001b[0m\n\u001b[0m\u001b[1;32m   2406\u001b[0m \u001b[0;34m\u001b[0m\u001b[0m\n",
      "\u001b[0;32m/home/haiyang/venv/lib/python3.6/site-packages/tensorflow/python/framework/ops.py\u001b[0m in \u001b[0;36m_as_graph_element_locked\u001b[0;34m(self, obj, allow_tensor, allow_operation)\u001b[0m\n\u001b[1;32m   2483\u001b[0m       \u001b[0;32mif\u001b[0m \u001b[0mobj\u001b[0m\u001b[0;34m.\u001b[0m\u001b[0mgraph\u001b[0m \u001b[0;32mis\u001b[0m \u001b[0;32mnot\u001b[0m \u001b[0mself\u001b[0m\u001b[0;34m:\u001b[0m\u001b[0;34m\u001b[0m\u001b[0m\n\u001b[0;32m-> 2484\u001b[0;31m         \u001b[0;32mraise\u001b[0m \u001b[0mValueError\u001b[0m\u001b[0;34m(\u001b[0m\u001b[0;34m\"Tensor %s is not an element of this graph.\"\u001b[0m \u001b[0;34m%\u001b[0m \u001b[0mobj\u001b[0m\u001b[0;34m)\u001b[0m\u001b[0;34m\u001b[0m\u001b[0m\n\u001b[0m\u001b[1;32m   2485\u001b[0m       \u001b[0;32mreturn\u001b[0m \u001b[0mobj\u001b[0m\u001b[0;34m\u001b[0m\u001b[0m\n",
      "\u001b[0;31mValueError\u001b[0m: Tensor Tensor(\"Placeholder:0\", shape=(?, 784), dtype=float32) is not an element of this graph.",
      "\nDuring handling of the above exception, another exception occurred:\n",
      "\u001b[0;31mTypeError\u001b[0m                                 Traceback (most recent call last)",
      "\u001b[0;32m<ipython-input-23-0df369f33469>\u001b[0m in \u001b[0;36m<module>\u001b[0;34m()\u001b[0m\n\u001b[1;32m      1\u001b[0m \u001b[0;32mwith\u001b[0m \u001b[0mtf\u001b[0m\u001b[0;34m.\u001b[0m\u001b[0mSession\u001b[0m\u001b[0;34m(\u001b[0m\u001b[0;34m)\u001b[0m \u001b[0;32mas\u001b[0m \u001b[0msess\u001b[0m\u001b[0;34m:\u001b[0m\u001b[0;34m\u001b[0m\u001b[0m\n\u001b[1;32m      2\u001b[0m     \u001b[0msess\u001b[0m\u001b[0;34m.\u001b[0m\u001b[0mrun\u001b[0m\u001b[0;34m(\u001b[0m\u001b[0;34m[\u001b[0m\u001b[0mtf\u001b[0m\u001b[0;34m.\u001b[0m\u001b[0mlocal_variables_initializer\u001b[0m\u001b[0;34m(\u001b[0m\u001b[0;34m)\u001b[0m\u001b[0;34m,\u001b[0m\u001b[0mtf\u001b[0m\u001b[0;34m.\u001b[0m\u001b[0mglobal_variables_initializer\u001b[0m\u001b[0;34m(\u001b[0m\u001b[0;34m)\u001b[0m\u001b[0;34m]\u001b[0m\u001b[0;34m)\u001b[0m\u001b[0;34m\u001b[0m\u001b[0m\n\u001b[0;32m----> 3\u001b[0;31m     \u001b[0mres_lable\u001b[0m \u001b[0;34m=\u001b[0m \u001b[0msess\u001b[0m\u001b[0;34m.\u001b[0m\u001b[0mrun\u001b[0m\u001b[0;34m(\u001b[0m\u001b[0my_conv\u001b[0m\u001b[0;34m,\u001b[0m \u001b[0mfeed_dict\u001b[0m\u001b[0;34m=\u001b[0m\u001b[0;34m{\u001b[0m\u001b[0mx\u001b[0m\u001b[0;34m:\u001b[0m\u001b[0mmnist1\u001b[0m\u001b[0;34m}\u001b[0m\u001b[0;34m)\u001b[0m\u001b[0;34m\u001b[0m\u001b[0m\n\u001b[0m\u001b[1;32m      4\u001b[0m     \u001b[0mprint\u001b[0m \u001b[0;34m(\u001b[0m\u001b[0mnp\u001b[0m\u001b[0;34m.\u001b[0m\u001b[0margmax\u001b[0m\u001b[0;34m(\u001b[0m\u001b[0mres_lable\u001b[0m\u001b[0;34m,\u001b[0m \u001b[0;36m1\u001b[0m\u001b[0;34m)\u001b[0m\u001b[0;34m)\u001b[0m\u001b[0;34m\u001b[0m\u001b[0m\n",
      "\u001b[0;32m/home/haiyang/venv/lib/python3.6/site-packages/tensorflow/python/client/session.py\u001b[0m in \u001b[0;36mrun\u001b[0;34m(self, fetches, feed_dict, options, run_metadata)\u001b[0m\n\u001b[1;32m    765\u001b[0m     \u001b[0;32mtry\u001b[0m\u001b[0;34m:\u001b[0m\u001b[0;34m\u001b[0m\u001b[0m\n\u001b[1;32m    766\u001b[0m       result = self._run(None, fetches, feed_dict, options_ptr,\n\u001b[0;32m--> 767\u001b[0;31m                          run_metadata_ptr)\n\u001b[0m\u001b[1;32m    768\u001b[0m       \u001b[0;32mif\u001b[0m \u001b[0mrun_metadata\u001b[0m\u001b[0;34m:\u001b[0m\u001b[0;34m\u001b[0m\u001b[0m\n\u001b[1;32m    769\u001b[0m         \u001b[0mproto_data\u001b[0m \u001b[0;34m=\u001b[0m \u001b[0mtf_session\u001b[0m\u001b[0;34m.\u001b[0m\u001b[0mTF_GetBuffer\u001b[0m\u001b[0;34m(\u001b[0m\u001b[0mrun_metadata_ptr\u001b[0m\u001b[0;34m)\u001b[0m\u001b[0;34m\u001b[0m\u001b[0m\n",
      "\u001b[0;32m/home/haiyang/venv/lib/python3.6/site-packages/tensorflow/python/client/session.py\u001b[0m in \u001b[0;36m_run\u001b[0;34m(self, handle, fetches, feed_dict, options, run_metadata)\u001b[0m\n\u001b[1;32m    920\u001b[0m           \u001b[0;32mexcept\u001b[0m \u001b[0mException\u001b[0m \u001b[0;32mas\u001b[0m \u001b[0me\u001b[0m\u001b[0;34m:\u001b[0m\u001b[0;34m\u001b[0m\u001b[0m\n\u001b[1;32m    921\u001b[0m             raise TypeError('Cannot interpret feed_dict key as Tensor: '\n\u001b[0;32m--> 922\u001b[0;31m                             + e.args[0])\n\u001b[0m\u001b[1;32m    923\u001b[0m \u001b[0;34m\u001b[0m\u001b[0m\n\u001b[1;32m    924\u001b[0m           \u001b[0;32mif\u001b[0m \u001b[0misinstance\u001b[0m\u001b[0;34m(\u001b[0m\u001b[0msubfeed_val\u001b[0m\u001b[0;34m,\u001b[0m \u001b[0mops\u001b[0m\u001b[0;34m.\u001b[0m\u001b[0mTensor\u001b[0m\u001b[0;34m)\u001b[0m\u001b[0;34m:\u001b[0m\u001b[0;34m\u001b[0m\u001b[0m\n",
      "\u001b[0;31mTypeError\u001b[0m: Cannot interpret feed_dict key as Tensor: Tensor Tensor(\"Placeholder:0\", shape=(?, 784), dtype=float32) is not an element of this graph."
     ]
    }
   ],
   "source": [
    "with tf.Session() as sess:\n",
    "    sess.run([tf.local_variables_initializer(),tf.global_variables_initializer()])\n",
    "    res_lable = sess.run(Y, feed_dict={x:mnist1})\n",
    "    print (np.argmax(res_lable, 1))"
   ]
  },
  {
   "cell_type": "code",
   "execution_count": null,
   "metadata": {
    "collapsed": true,
    "deletable": true,
    "editable": true
   },
   "outputs": [],
   "source": []
  }
 ],
 "metadata": {
  "kernelspec": {
   "display_name": "Python 3",
   "language": "python",
   "name": "python3"
  },
  "language_info": {
   "codemirror_mode": {
    "name": "ipython",
    "version": 3
   },
   "file_extension": ".py",
   "mimetype": "text/x-python",
   "name": "python",
   "nbconvert_exporter": "python",
   "pygments_lexer": "ipython3",
   "version": "3.6.0"
  }
 },
 "nbformat": 4,
 "nbformat_minor": 2
}
