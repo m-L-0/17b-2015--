{
 "cells": [
  {
   "cell_type": "code",
   "execution_count": 1,
   "metadata": {
    "collapsed": false,
    "deletable": true,
    "editable": true
   },
   "outputs": [],
   "source": [
    "from numpy import *\n",
    "import matplotlib.pyplot as plt\n",
    "from tensorflow.examples.tutorials.mnist import input_data\n",
    "from sklearn.manifold import TSNE"
   ]
  },
  {
   "cell_type": "code",
   "execution_count": 2,
   "metadata": {
    "collapsed": false,
    "deletable": true,
    "editable": true,
    "scrolled": true
   },
   "outputs": [],
   "source": [
    "#计算欧式距离\n",
    "def euclDistance(v1, v2):\n",
    "    return sqrt(sum(power(v2 - v1, 2)))"
   ]
  },
  {
   "cell_type": "code",
   "execution_count": 3,
   "metadata": {
    "collapsed": true,
    "deletable": true,
    "editable": true
   },
   "outputs": [],
   "source": [
    "#选择聚簇中心\n",
    "def initCentroids(dataSet, k):\n",
    "    numSamples, dim = dataSet.shape  #返回矩阵的行和列\n",
    "    centroids = zeros((k, dim))  #centroids存储每个簇心的坐标\n",
    "    for i in range(k):\n",
    "        index = int(random.uniform(0, numSamples))\n",
    "        centroids[i, :] = dataSet[index, :]\n",
    "    return centroids"
   ]
  },
  {
   "cell_type": "code",
   "execution_count": 4,
   "metadata": {
    "collapsed": false,
    "deletable": true,
    "editable": true
   },
   "outputs": [
    {
     "data": {
      "text/plain": [
       "'\\n1）从N个文档随机选取K个文档作为质心\\n2）对剩余的每个文档测量其到每个质心的距离，并把它归到最近的质心的类\\n3）重新计算已经得到的各个类的质心\\n4）迭代2～3步直至新的质心与原质心相等或小于指定阈值，算法结束\\n'"
      ]
     },
     "execution_count": 4,
     "metadata": {},
     "output_type": "execute_result"
    }
   ],
   "source": [
    "'''\n",
    "1）从N个文档随机选取K个文档作为质心\n",
    "2）对剩余的每个文档测量其到每个质心的距离，并把它归到最近的质心的类\n",
    "3）重新计算已经得到的各个类的质心\n",
    "4）迭代2～3步直至新的质心与原质心相等或小于指定阈值，算法结束\n",
    "'''"
   ]
  },
  {
   "cell_type": "code",
   "execution_count": 5,
   "metadata": {
    "collapsed": true,
    "deletable": true,
    "editable": true
   },
   "outputs": [],
   "source": [
    "def kmeans(dataSet, k): \n",
    "    numSamples = dataSet.shape[0]\n",
    "    # clusterAssment第一列存储对应样本点属于哪一个簇,第二列是该点到簇中心的距离平方和                  \n",
    "    clusterAssment = mat(zeros((numSamples, 2)))\n",
    "    clusterChanged = True\n",
    "\n",
    "    # 找出初始点\n",
    "    centroids = initCentroids(dataSet, k)\n",
    "    while clusterChanged:\n",
    "        # clusterChanged标记簇中心是否改变\n",
    "        clusterChanged = False\n",
    "\n",
    "        # 对于每个样本点,计算它与每个簇之间的距离,距离最小划分为它归属的簇\n",
    "        for i in range(numSamples):\n",
    "            minDist = inf  \n",
    "            #inf是numpy中的一个常量,表示无穷大\n",
    "            minIndex = 0\n",
    "\n",
    "            for j in range(k):\n",
    "                distance = euclDistance(centroids[j, :], dataSet[i, :])\n",
    "                if distance < minDist:\n",
    "                    minDist = distance\n",
    "                    minIndex = j\n",
    "\n",
    "            # 判断该样本点所属的簇是否改变,若改变记下它与簇中心之间的距离\n",
    "            if clusterAssment[i,\n",
    "                              0] != minIndex:  #clusterAssment[i, 0]是原先该样本所属的簇中心,minIndex是新样本点所属的簇中心\n",
    "                clusterChanged = True  #簇中心已发生改变\n",
    "                clusterAssment[i, :] = minIndex, minDist**2\n",
    "\n",
    "        # 更新簇中心\n",
    "        for j in range(k):\n",
    "            pointsInCluster = dataSet[nonzero(clusterAssment[:, 0].A == j)[\n",
    "                0]]  #clusterAssment[:,0].A将clusterAssment[:,0]矩阵转换成数组\n",
    "            # nonzero(a)函数将对矩阵a的所有非零元素,分别从两个维度(行和列)看,非0元素对应的行坐标放在一个列表中,对应的列坐标放在一个列表中,然后一起返回!\n",
    "            # clusterAssment[:, 0].A ==j将对应的元素编程True和False了,所以nonzero(clusterAssment[:, 0].A == j)[0]最终将该簇的点\n",
    "            centroids[j, :] = mean(\n",
    "                pointsInCluster, axis=0)  #选项axis=0表示沿矩阵的列方向进行均值计算\n",
    "\n",
    "    print('Congratulations, cluster complete!')\n",
    "    return centroids, clusterAssment"
   ]
  },
  {
   "cell_type": "code",
   "execution_count": 6,
   "metadata": {
    "collapsed": true,
    "deletable": true,
    "editable": true
   },
   "outputs": [],
   "source": [
    "def showCluster(dataSet, k, centroids, clusterAssment):\n",
    "    numSamples, dim = dataSet.shape\n",
    "    if dim != 2:\n",
    "        print(\n",
    "            \"Sorry! I can not draw because the dimension of your data is not 2!\"\n",
    "        )\n",
    "        return 1\n",
    "\n",
    "    mark = ['or', 'ob', 'og', 'ok', '^r', '+r', 'sr', 'dr', '<r', 'pr']\n",
    "    if k > len(mark):\n",
    "        print(\"Sorry! Your k is too large!\")\n",
    "        return 1\n",
    "\n",
    "    for i in range(numSamples):\n",
    "        markIndex = int(clusterAssment[i, 0])\n",
    "        plt.plot(dataSet[i, 0], dataSet[i, 1], mark[markIndex])\n",
    "    mark = ['Dr', 'Db', 'Dg', 'Dk', '^b', '+b', 'sb', 'db', '<b', 'pb']\n",
    "    # draw the centroids\n",
    "    for i in range(k):\n",
    "        plt.plot(centroids[i, 0], centroids[i, 1], mark[i], markersize=12)\n",
    "    plt.show()"
   ]
  },
  {
   "cell_type": "code",
   "execution_count": 7,
   "metadata": {
    "collapsed": false,
    "deletable": true,
    "editable": true
   },
   "outputs": [
    {
     "name": "stdout",
     "output_type": "stream",
     "text": [
      "load data...\n",
      "Extracting ../../data/train-images-idx3-ubyte.gz\n",
      "Extracting ../../data/train-labels-idx1-ubyte.gz\n",
      "Extracting ../../data/t10k-images-idx3-ubyte.gz\n",
      "Extracting ../../data/t10k-labels-idx1-ubyte.gz\n"
     ]
    }
   ],
   "source": [
    "train_num = 5000\n",
    "print(\"load data...\")\n",
    "mnist = input_data.read_data_sets('../../data/', one_hot=True)\n",
    "train_images = mnist.train.images\n",
    "dataMat = TSNE().fit_transform(train_images[:train_num])"
   ]
  },
  {
   "cell_type": "code",
   "execution_count": 8,
   "metadata": {
    "collapsed": false,
    "deletable": true,
    "editable": true
   },
   "outputs": [
    {
     "name": "stdout",
     "output_type": "stream",
     "text": [
      "clustering...\n",
      "Congratulations, cluster complete!\n",
      "[[ 10.1611681  -49.41313553]\n",
      " [  1.34739637  -0.80352056]\n",
      " [-55.04549408   8.68046951]\n",
      " [ 66.72697449   6.37891436]\n",
      " [-20.08272171 -26.72959518]\n",
      " [ 41.47779083  13.13488388]\n",
      " [-27.67796707  44.97389984]\n",
      " [ 13.60941315  45.94640732]\n",
      " [-59.82429123 -33.73008728]\n",
      " [ 43.39649963 -22.78181839]]\n",
      "[[   3.          576.74970797]\n",
      " [   4.           80.04014704]\n",
      " [   9.          206.20705088]\n",
      " ..., \n",
      " [   2.          190.71651315]\n",
      " [   9.          236.36835273]\n",
      " [   3.           30.74218528]]\n",
      "show the result...\n"
     ]
    },
    {
     "data": {
      "image/png": "[encoded data removed]",
      "text/plain": [
       "<matplotlib.figure.Figure at 0x7fd5d0b54128>"
      ]
     },
     "metadata": {},
     "output_type": "display_data"
    }
   ],
   "source": [
    "print(\"clustering...\")\n",
    "k = 10\n",
    "centroids, clusterAssment = kmeans(dataMat, k)\n",
    "print(centroids)\n",
    "print(clusterAssment)\n",
    "\n",
    "print(\"show the result...\")\n",
    "showCluster(dataMat, k, centroids, clusterAssment)"
   ]
  }
 ],
 "metadata": {
  "kernelspec": {
   "display_name": "Python 3",
   "language": "python",
   "name": "python3"
  },
  "language_info": {
   "codemirror_mode": {
    "name": "ipython",
    "version": 3
   },
   "file_extension": ".py",
   "mimetype": "text/x-python",
   "name": "python",
   "nbconvert_exporter": "python",
   "pygments_lexer": "ipython3",
   "version": "3.6.0"
  }
 },
 "nbformat": 4,
 "nbformat_minor": 2
}
