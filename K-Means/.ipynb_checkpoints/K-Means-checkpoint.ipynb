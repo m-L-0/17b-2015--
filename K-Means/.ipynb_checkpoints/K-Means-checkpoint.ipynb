{
 "cells": [
  {
   "cell_type": "code",
   "execution_count": 1,
   "metadata": {
    "collapsed": true
   },
   "outputs": [],
   "source": [
    "def img2vector(impath,savepath):\n",
    "    '''\n",
    "    convert the image to an numpy array\n",
    "    Black pixel set to 1,white pixel set to 0\n",
    "    '''\n",
    "    im = Image.open(impath)\n",
    "    im = im.transpose(Image.ROTATE_90)\n",
    "    im = im.transpose(Image.FLIP_TOP_BOTTOM)\n",
    "\n",
    "    rows = im.size[0]\n",
    "    cols = im.size[1]\n",
    "    imBinary = zeros((rows,cols))\n",
    "    for row in range(0,rows):\n",
    "        for col in range(0,cols):\n",
    "            imPixel = im.getpixel((row,col))[0:3]\n",
    "            if imPixel == (0,0,0):\n",
    "                imBinary[row,col] = 0\n",
    "    #save temp txt like 1_5.txt whiich represent the class is 1 and the index is 5\n",
    "    fp = open(savepath,'w')\n",
    "    for x in range(0,imBinary.shape[0]):\n",
    "        for y in range(0,imBinary.shape[1]):\n",
    "            fp.write(str(int(imBinary[x,y])))\n",
    "        fp.write('\\n')\n",
    "    fp.close()"
   ]
  },
  {
   "cell_type": "code",
   "execution_count": 2,
   "metadata": {
    "collapsed": true
   },
   "outputs": [],
   "source": [
    "def vectorOneLine(filename):\n",
    "    rows = 32\n",
    "    cols = 32\n",
    "    imgVector = zeros((1, rows * cols)) \n",
    "    fileIn = open(filename)\n",
    "    for row in xrange(rows):\n",
    "        lineStr = fileIn.readline()\n",
    "        for col in xrange(cols):\n",
    "            imgVector[0, row * 32 + col] = int(lineStr[col])\n",
    "    return imgVector"
   ]
  },
  {
   "cell_type": "code",
   "execution_count": 3,
   "metadata": {
    "collapsed": true
   },
   "outputs": [],
   "source": [
    "def kNNClassify(testImput, TrainingDataSet, TrainingLabels, k):\n",
    "    numSamples = dataSet.shape[0] # shape[0] stands for the num of row\n",
    "    #calculate the Euclidean distance\n",
    "    diff = tile(newInput, (numSamples, 1)) - dataSet # Subtract element-wise\n",
    "    squaredDiff = diff ** 2 # squared for the subtract\n",
    "    squaredDist = sum(squaredDiff, axis = 1) # sum is performed by row\n",
    "    distance = squaredDist ** 0.5\n",
    "    #sort the distance vector\n",
    "    sortedDistIndices = argsort(distance)\n",
    "    #choose k elements\n",
    "    classCount = {} # define a dictionary (can be append element)\n",
    "    for i in xrange(k):\n",
    "        voteLabel = labels[sortedDistIndices[i]]\n",
    "        #initial the dict\n",
    "        classCount[voteLabel] = classCount.get(voteLabel, 0) + 1\n",
    "    #vote the label as final return\n",
    "    maxCount = 0\n",
    "    for key, value in classCount.items():\n",
    "        if value > maxCount:\n",
    "            maxCount = value\n",
    "            maxIndex = key\n",
    "    return maxIndex "
   ]
  },
  {
   "cell_type": "code",
   "execution_count": null,
   "metadata": {
    "collapsed": true
   },
   "outputs": [],
   "source": []
  }
 ],
 "metadata": {
  "kernelspec": {
   "display_name": "Python 3",
   "language": "python",
   "name": "python3"
  },
  "language_info": {
   "codemirror_mode": {
    "name": "ipython",
    "version": 3
   },
   "file_extension": ".py",
   "mimetype": "text/x-python",
   "name": "python",
   "nbconvert_exporter": "python",
   "pygments_lexer": "ipython3",
   "version": "3.6.0"
  }
 },
 "nbformat": 4,
 "nbformat_minor": 2
}
