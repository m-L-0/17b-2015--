{
 "cells": [
  {
   "cell_type": "code",
   "execution_count": null,
   "metadata": {
    "collapsed": false,
    "deletable": true,
    "editable": true
   },
   "outputs": [],
   "source": [
    "__author__ = 'freedom'\n",
    "import tensorflow as tf\n",
    "import numpy as np\n",
    "\n",
    "def loadMNIST():\n",
    "    from tensorflow.examples.tutorials.mnist import input_data\n",
    "    mnist = input_data.read_data_sets('data/',one_hot=True)\n",
    "    return mnist\n",
    "def KNN(mnist):\n",
    "    train_x,train_y = mnist.train.next_batch(5000)\n",
    "    test_x,test_y = mnist.train.next_batch(200)\n",
    "\n",
    "    xtr = tf.placeholder(tf.float32,[None,784])\n",
    "    xte = tf.placeholder(tf.float32,[784])\n",
    "    distance = tf.sqrt(tf.reduce_sum(tf.pow(tf.add(xtr,tf.negative(xte)),2),reduction_indices=1))\n",
    "\n",
    "    pred = tf.argmin(distance,0)\n",
    "\n",
    "    init = tf.initialize_all_variables()\n",
    "\n",
    "    sess = tf.Session()\n",
    "    sess.run(init)\n",
    "\n",
    "    right = 0\n",
    "    for i in range(200):\n",
    "        ansIndex = sess.run(pred,{xtr:train_x,xte:test_x[i,:]})\n",
    "        print ('prediction is ',np.argmax(train_y[ansIndex]))\n",
    "        print ('true value is ',np.argmax(test_y[i]))\n",
    "        if np.argmax(test_y[i]) == np.argmax(train_y[ansIndex]):\n",
    "            right += 1.0\n",
    "    accracy = right/200.0\n",
    "    print (accracy)\n",
    "\n",
    "if __name__ == \"__main__\":\n",
    "    mnist = loadMNIST()\n",
    "    KNN(mnist)\n",
    "\n"
   ]
  },
  {
   "cell_type": "code",
   "execution_count": 7,
   "metadata": {
    "collapsed": false,
    "deletable": true,
    "editable": true
   },
   "outputs": [
    {
     "name": "stdout",
     "output_type": "stream",
     "text": [
      "Object `tensorflow.neg` not found.\n"
     ]
    }
   ],
   "source": [
    "tensorflow.neg??\n"
   ]
  }
 ],
 "metadata": {
  "kernelspec": {
   "display_name": "Python 3",
   "language": "python",
   "name": "python3"
  },
  "language_info": {
   "codemirror_mode": {
    "name": "ipython",
    "version": 3
   },
   "file_extension": ".py",
   "mimetype": "text/x-python",
   "name": "python",
   "nbconvert_exporter": "python",
   "pygments_lexer": "ipython3",
   "version": "3.6.0"
  }
 },
 "nbformat": 4,
 "nbformat_minor": 2
}
