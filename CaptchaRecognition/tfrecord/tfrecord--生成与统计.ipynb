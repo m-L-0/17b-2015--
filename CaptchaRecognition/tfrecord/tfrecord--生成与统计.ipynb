{
 "cells": [
  {
   "cell_type": "code",
   "execution_count": 1,
   "metadata": {
    "collapsed": true,
    "deletable": true,
    "editable": true
   },
   "outputs": [],
   "source": [
    "import os\n",
    "import tensorflow as tf \n",
    "from PIL import Image\n",
    "import shutil  \n",
    "import matplotlib.pyplot as plt\n",
    "import numpy as np\n",
    "import cv2\n",
    "import csv"
   ]
  },
  {
   "cell_type": "code",
   "execution_count": 2,
   "metadata": {
    "collapsed": true
   },
   "outputs": [],
   "source": [
    "#数据集划分\n",
    "#训练集32000 （共8个，每个4000）\n",
    "#验证集4000  （共1个，每个4000）\n",
    "#测试集4000  （共1个，每个4000）"
   ]
  },
  {
   "cell_type": "code",
   "execution_count": 3,
   "metadata": {
    "collapsed": true
   },
   "outputs": [],
   "source": [
    "#统计数据集\n",
    "num={1:0,2:0,3:0,4:0}"
   ]
  },
  {
   "cell_type": "code",
   "execution_count": 4,
   "metadata": {
    "collapsed": false,
    "deletable": true,
    "editable": true
   },
   "outputs": [
    {
     "name": "stderr",
     "output_type": "stream",
     "text": [
      "/home/haiyang/venv/lib/python3.6/site-packages/ipykernel/__main__.py:11: DeprecationWarning: PyUnicode_AsEncodedObject() is deprecated; use PyUnicode_AsEncodedString() to encode from str to bytes or PyCodec_Encode() for generic encoding\n"
     ]
    }
   ],
   "source": [
    "cwd = \"data/captcha/labels/labels.csv\"\n",
    "csv_reader = csv.reader(open('data/captcha/labels/labels.csv', encoding='utf-8'))\n",
    "i = 0\n",
    "for index, img_ in enumerate(csv_reader):\n",
    "    num[len(img_[1])] = num[len(img_[1])] +1\n",
    "    img = Image.open(img_[0])\n",
    "    img = img.resize((48, 36))\n",
    "    img_raw = img.tobytes()#将图片转化为原生bytes\n",
    "    example = tf.train.Example(features=tf.train.Features(feature={\n",
    "                'label': tf.train.Feature(int64_list=tf.train.Int64List(value=[int(img_[1])])),\n",
    "                'img_raw': tf.train.Feature(bytes_list=tf.train.BytesList(value=[img_raw]))\n",
    "    }))\n",
    "    if index%4000 == 0 :\n",
    "        i = i+1\n",
    "        if i < 9:\n",
    "            s = str(i)\n",
    "            writer= tf.python_io.TFRecordWriter(\"train_\"+s+\".tfrecord\")\n",
    "        if i == 9:\n",
    "            writer= tf.python_io.TFRecordWriter(\"validation.tfrecord\")\n",
    "        if i == 10:\n",
    "            writer= tf.python_io.TFRecordWriter(\"test.tfrecord\")\n",
    "    writer.write(example.SerializeToString())\n",
    "    if (index+1)%4000 == 0:\n",
    "        writer.close()\n",
    "        "
   ]
  },
  {
   "cell_type": "code",
   "execution_count": 5,
   "metadata": {
    "collapsed": false
   },
   "outputs": [],
   "source": [
    "def Piechart(num):\n",
    "    y_1 = list(num)\n",
    "    y1 = list()\n",
    "    for i in y_1:\n",
    "        y1.append(num[i])\n",
    "    for i in range(4):\n",
    "        y_1[i] = str(y_1[i])+\"(\"+str(y1[i])+\")\" \n",
    "    plt.axes(aspect=1)  # aspect = 1是圆形，否在是椭圆\n",
    "    #autopct ，show percet\n",
    "    plt.pie(x=y1, labels=y_1, explode=None,autopct='%3.1f %%',\n",
    "            shadow=True, labeldistance=1.1, startangle = 90,pctdistance = 0.6\n",
    " \n",
    "        )\n",
    "    plt.show()"
   ]
  },
  {
   "cell_type": "code",
   "execution_count": 6,
   "metadata": {
    "collapsed": false
   },
   "outputs": [
    {
     "data": {
      "image/png": "[encoded data removed]",
      "text/plain": [
       "<matplotlib.figure.Figure at 0x7f2b82ff3198>"
      ]
     },
     "metadata": {},
     "output_type": "display_data"
    }
   ],
   "source": [
    "Piechart(num)"
   ]
  },
  {
   "cell_type": "code",
   "execution_count": null,
   "metadata": {
    "collapsed": true
   },
   "outputs": [],
   "source": []
  }
 ],
 "metadata": {
  "kernelspec": {
   "display_name": "Python 3",
   "language": "python",
   "name": "python3"
  },
  "language_info": {
   "codemirror_mode": {
    "name": "ipython",
    "version": 3
   },
   "file_extension": ".py",
   "mimetype": "text/x-python",
   "name": "python",
   "nbconvert_exporter": "python",
   "pygments_lexer": "ipython3",
   "version": "3.6.0"
  }
 },
 "nbformat": 4,
 "nbformat_minor": 2
}
